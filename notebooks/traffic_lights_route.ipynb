{
 "cells": [
  {
   "cell_type": "markdown",
   "metadata": {},
   "source": [
    "# Traffic Lights Route Planner\n",
    "\n",
    "Use this notebook to plan a route and visualize traffic lights along the way. Enter start and end addresses below."
   ]
  },
  {
   "cell_type": "code",
   "metadata": {},
   "outputs": [],
   "source": [
    "import requests\n",
    "import folium\n",
    "from geopy.geocoders import Nominatim\n",
    "from ipywidgets import Text, Button, VBox, Output\n",
    "from IPython.display import display\n",
    "\n",
    "geolocator = Nominatim(user_agent='traffic_lights_route')\n",
    "\n",
    "def geocode(address: str):\n",
    "    location = geolocator.geocode(address)\n",
    "    if not location:\n",
    "        raise ValueError(f'Could not geocode address: {address}')\n",
    "    return (location.latitude, location.longitude)\n",
    "\n",
    "def get_route(start, end):\n",
    "    url = f\"https://router.project-osrm.org/route/v1/driving/{start[1]},{start[0]};{end[1]},{end[0]}?overview=full&geometries=geojson\"\n",
    "    r = requests.get(url)\n",
    "    r.raise_for_status()\n",
    "    data = r.json()\n",
    "    coords = data['routes'][0]['geometry']['coordinates']\n",
    "    return [(lat, lon) for lon, lat in coords]\n",
    "\n",
    "def fetch_traffic_lights(route, padding=0.005):\n",
    "    lats = [lat for lat, _ in route]\n",
    "    lons = [lon for _, lon in route]\n",
    "    min_lat, max_lat = min(lats) - padding, max(lats) + padding\n",
    "    min_lon, max_lon = min(lons) - padding, max(lons) + padding\n",
    "    query = (\n",
    "        f\"[out:json];\"\n",
    "        f\"node['highway'='traffic_signals']({min_lat},{min_lon},{max_lat},{max_lon});\"\n",
    "        \"out;\"\n",
    "    )\n",
    "    r = requests.get(\"https://overpass-api.de/api/interpreter\", params={'data': query})\n",
    "    r.raise_for_status()\n",
    "    data = r.json()\n",
    "    lights = []\n",
    "    for el in data.get('elements', []):\n",
    "        lat = el['lat']\n",
    "        lon = el['lon']\n",
    "        name = el.get('tags', {}).get('name', 'Traffic Light')\n",
    "        lights.append((lat, lon, name))\n",
    "    return lights\n",
    "\n",
    "start_box = Text(description='Start:')\n",
    "end_box = Text(description='End:')\n",
    "button = Button(description='Show Route')\n",
    "output = Output()\n",
    "\n",
    "def on_click(_):\n",
    "    output.clear_output()\n",
    "    with output:\n",
    "        start = geocode(start_box.value)\n",
    "        end = geocode(end_box.value)\n",
    "        route = get_route(start, end)\n",
    "        lights = fetch_traffic_lights(route)\n",
    "        m = folium.Map(location=start, zoom_start=13)\n",
    "        folium.PolyLine(route, color='blue', weight=5).add_to(m)\n",
    "        for lat, lon, name in lights:\n",

    "            folium.Marker((lat, lon), popup=name, icon=folium.Icon(color='red', icon='traffic-light')).add_to(m)\n",
    "        display(m)\n",
    "\n",
    "button.on_click(on_click)\n",
    "\n",
    "VBox([start_box, end_box, button, output])\n"
   ]
  }
 ],
 "metadata": {
  "kernelspec": {
   "display_name": "Python 3",
   "language": "python",
   "name": "python3"
  },
  "language_info": {
   "name": "python",
   "version": "3"
  }
 },
 "nbformat": 4,
 "nbformat_minor": 5
}